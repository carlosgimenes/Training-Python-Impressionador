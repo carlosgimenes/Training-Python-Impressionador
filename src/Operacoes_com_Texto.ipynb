{
 "cells": [
  {
   "cell_type": "markdown",
   "metadata": {},
   "source": [
    "# **Operações com Texto (String)**"
   ]
  },
  {
   "cell_type": "markdown",
   "metadata": {},
   "source": [
    "### **Este é um exemplo de operação com Texto**"
   ]
  },
  {
   "cell_type": "code",
   "execution_count": 2,
   "metadata": {},
   "outputs": [
    {
     "name": "stdout",
     "output_type": "stream",
     "text": [
      "Meu nome é Gimenes\n",
      "Meu nome é Gimenes\n"
     ]
    }
   ],
   "source": [
    "print('Meu nome é Gimenes')\n",
    "print(\"Meu nome é Gimenes\")"
   ]
  },
  {
   "cell_type": "markdown",
   "metadata": {},
   "source": [
    "No exemplo acima, chamamos 'Meu nome é Gimenes' de texto, porém em qualquer linguagem de programação chamamos isso de **String**, sendo que o mesmo vale para o Python. Observe que podemos usar tanto Aspas Duplas como Aspas Simples."
   ]
  },
  {
   "cell_type": "markdown",
   "metadata": {},
   "source": [
    "### **Operação de Concatenação**"
   ]
  },
  {
   "cell_type": "code",
   "execution_count": 4,
   "metadata": {},
   "outputs": [
    {
     "name": "stdout",
     "output_type": "stream",
     "text": [
      "Meu nome é Carlos Eduardo Gimenes\n"
     ]
    }
   ],
   "source": [
    "print('Meu nome é ' + 'Carlos Eduardo Gimenes')"
   ]
  },
  {
   "cell_type": "markdown",
   "metadata": {},
   "source": [
    "### **Operação de \"in\"**"
   ]
  },
  {
   "cell_type": "code",
   "execution_count": 5,
   "metadata": {},
   "outputs": [
    {
     "name": "stdout",
     "output_type": "stream",
     "text": [
      "True\n"
     ]
    }
   ],
   "source": [
    "print('Carlos' in 'Carlos Eduardo Gimenes')"
   ]
  },
  {
   "cell_type": "markdown",
   "metadata": {},
   "source": [
    "Neste caso o Python irá verificar se o texto 'Carlos' está contido no texto 'Carlos Eduardo Gimenes', se sim irá retornar **True**, caso contrário irá retornar **False**. Lembre-se que esta verificação é **Case Sensitive**."
   ]
  }
 ],
 "metadata": {
  "kernelspec": {
   "display_name": "Python 3",
   "language": "python",
   "name": "python3"
  },
  "language_info": {
   "codemirror_mode": {
    "name": "ipython",
    "version": 3
   },
   "file_extension": ".py",
   "mimetype": "text/x-python",
   "name": "python",
   "nbconvert_exporter": "python",
   "pygments_lexer": "ipython3",
   "version": "3.11.6"
  }
 },
 "nbformat": 4,
 "nbformat_minor": 2
}
